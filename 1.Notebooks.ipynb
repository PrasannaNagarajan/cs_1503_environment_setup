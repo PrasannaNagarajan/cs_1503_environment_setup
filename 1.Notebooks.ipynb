{
 "cells": [
  {
   "cell_type": "markdown",
   "metadata": {},
   "source": [
    "# THIS IS THE TITLE FOR THE FIRST NOTEBOOK"
   ]
  },
  {
   "cell_type": "markdown",
   "metadata": {},
   "source": [
    "## MARKDOWN EXCERCISES\n",
    "\n",
    "**Machine learning** is something which is widely regarded as the fundamental for AI as both are very tightly intertwined with eachother, As an aspiring AI scientist, knowing hwo data is manipulated, read and processed is essential for my success\n",
    "\n",
    "1. How data is manipulated\n",
    "2. How machines interpret data that is given to them\n",
    "3. How many interations do machines take for them to *understand* or _learn_ certain topics"
   ]
  },
  {
   "cell_type": "markdown",
   "metadata": {},
   "source": [
    "<iframe src=\"https://giphy.com/embed/3KQFqhgLN9ngkYr0qS\" width=\"480\" height=\"480\" frameBorder=\"0\" class=\"giphy-embed\" allowFullScreen></iframe><p><a href=\"https://giphy.com/gifs/artificial-intelligence-virtual-assistant-surveillance-capitalism-3KQFqhgLN9ngkYr0qS\">via GIPHY</a></p>"
   ]
  },
  {
   "cell_type": "markdown",
   "metadata": {},
   "source": [
    "## Jupyter Notebook Exercises"
   ]
  },
  {
   "cell_type": "code",
   "execution_count": 2,
   "metadata": {},
   "outputs": [
    {
     "name": "stdout",
     "output_type": "stream",
     "text": [
      "Hello Praz !\n"
     ]
    }
   ],
   "source": [
    "name = input(prompt = \"what is your name?\")\n",
    "print(\"Hello\", name ,\"!\")"
   ]
  }
 ],
 "metadata": {
  "kernelspec": {
   "display_name": "Python 3",
   "language": "python",
   "name": "python3"
  },
  "language_info": {
   "codemirror_mode": {
    "name": "ipython",
    "version": 3
   },
   "file_extension": ".py",
   "mimetype": "text/x-python",
   "name": "python",
   "nbconvert_exporter": "python",
   "pygments_lexer": "ipython3",
   "version": "3.10.7"
  }
 },
 "nbformat": 4,
 "nbformat_minor": 2
}
